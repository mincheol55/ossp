{
 "cells": [
  {
   "cell_type": "markdown",
   "metadata": {},
   "source": [
    "<a id=\"table\"></a>\n",
    "<h1 style=\"background-color:red;font-family:newtimeroman;font-size:350%;text-align:center;border-radius: 15px 50px;\">Table Of Content</h1>\n",
    "\n",
    "* [1. IMPORT LIBRARIES](#1)\n",
    "사용 라이브러리\n",
    "    \n",
    "* [2. LOAD THE DATASET](#2)\n",
    "데이터셋 가져오기\n",
    "* [3. EXPLORATORY SOME INFORMATION ABOUT DATASET](#3)\n",
    "데이터셋의 정보\n",
    "* [4. EDA](#4)\n",
    "데이터셋 분포 시각화\n",
    "* [5. PREDICTION ](#5)\n",
    "예측"
   ]
  },
  {
   "cell_type": "code",
   "execution_count": 312,
   "metadata": {},
   "outputs": [
    {
     "data": {
      "text/plain": [
       "'\\n용어 간단 설명\\n\\nage : 나이\\nsex : 성별\\ncp : 가슴 통증 타입\\ntrtbps : 안정 혈압\\nchol : 콜레스테롤 수치\\nfbs : 공복 혈당\\nrestecg : 안정 심전도 결과\\nthalachh : 최대 심박수\\nexng : 협심증을 유발하는 운동 여부\\noldpeak : 비교적 안정되기까지 운동으로 유발되는 ST depression\\nslope : 최대 운동 ST segment의 기울기\\nca : 형광 투시된 주요 혈관의 수\\noutput : 심장마비 진단\\n'"
      ]
     },
     "execution_count": 312,
     "metadata": {},
     "output_type": "execute_result"
    }
   ],
   "source": [
    "'''\n",
    "용어 간단 설명\n",
    "\n",
    "age : 나이\n",
    "sex : 성별\n",
    "cp : 가슴 통증 타입\n",
    "trtbps : 안정 혈압\n",
    "chol : 콜레스테롤 수치\n",
    "fbs : 공복 혈당\n",
    "restecg : 안정 심전도 결과\n",
    "thalachh : 최대 심박수\n",
    "exng : 협심증을 유발하는 운동 여부\n",
    "oldpeak : 비교적 안정되기까지 운동으로 유발되는 ST depression\n",
    "slope : 최대 운동 ST segment의 기울기\n",
    "ca : 형광 투시된 주요 혈관의 수\n",
    "output : 심장마비 진단\n",
    "'''"
   ]
  },
  {
   "cell_type": "markdown",
   "metadata": {},
   "source": [
    "<a id=\"1\"></a>\n",
    "<h1 style=\"background-color:red;font-family:newtimeroman;font-size:250%;text-align:center;border-radius: 10px 10px;\">Import Libraries</h1>"
   ]
  },
  {
   "cell_type": "code",
   "execution_count": 313,
   "metadata": {
    "execution": {
     "iopub.execute_input": "2023-01-04T11:47:53.909725Z",
     "iopub.status.busy": "2023-01-04T11:47:53.909265Z",
     "iopub.status.idle": "2023-01-04T11:47:53.920189Z",
     "shell.execute_reply": "2023-01-04T11:47:53.918538Z",
     "shell.execute_reply.started": "2023-01-04T11:47:53.90969Z"
    }
   },
   "outputs": [
    {
     "data": {
      "text/plain": [
       "'\\n어느 부분에서 쓰이는 지 아직 모르겠음\\n'"
      ]
     },
     "execution_count": 313,
     "metadata": {},
     "output_type": "execute_result"
    }
   ],
   "source": [
    "'''\n",
    "라이브러리 별 간단설명 주석문 추가\n",
    "'''\n",
    "\n",
    "import numpy as np # linear algebra\n",
    "'''\n",
    "과학 계산을 위한 라이브러리\n",
    "행렬/배열 처리 및 연산\n",
    "난수생성\n",
    "'''\n",
    "import pandas as pd # data processing, CSV file I/O (e.g. pd.read_csv)\n",
    "'''\n",
    "데이터 처리와 분석을 위한 라이브러리\n",
    "행과 열로 이루어진 데이터 객체를 만들어 다룰 수 있음\n",
    "대용량의 데이터들을 처리하는데 매우 편리\n",
    "'''\n",
    "import seaborn as sns \n",
    "'''\n",
    "matplotlib 기반의 시각화 라이브러리\n",
    "유익한 통계 그래픽을 그리기 위한 고급 인터페이스를 제공\n",
    "'''\n",
    "import matplotlib.pyplot as plt\n",
    "'''\n",
    "matplotlib.pyplot 모듈의 각각의 함수를 사용해서 간편하게 그래프를 만들고 변화를 줄 수 있음\n",
    "'''\n",
    "import missingno as msno\n",
    "'''\n",
    "결측치(missing value)를 체크하는 시각화 라이브러리\n",
    "빠르게 결측치의 분포를 확인하고 싶을 때 사용 가능\n",
    "'''\n",
    "import plotly.graph_objs as go\n",
    "import plotly.express as px\n",
    "'''\n",
    "파이썬에 수많은 데이터 시각화 라이브러리 중 예쁜 걸로 손에 꼽을만한 라이브러리\n",
    "인터렉티브한 시각화가 가능함\n",
    "'''\n",
    "plt.style.use('seaborn-dark')\n",
    "plt.style.context('grayscale')\n",
    "%matplotlib inline\n",
    "from wordcloud import WordCloud, STOPWORDS"
   ]
  },
  {
   "cell_type": "markdown",
   "metadata": {},
   "source": [
    "<a id=\"2\"></a>\n",
    "<h1 style=\"background-color:red;font-family:newtimeroman;font-size:250%;text-align:center;border-radius: 10px 10px;\">Load the Data</h1>"
   ]
  },
  {
   "cell_type": "code",
   "execution_count": 314,
   "metadata": {
    "execution": {
     "iopub.execute_input": "2023-01-04T11:47:53.936031Z",
     "iopub.status.busy": "2023-01-04T11:47:53.935534Z",
     "iopub.status.idle": "2023-01-04T11:47:53.965513Z",
     "shell.execute_reply": "2023-01-04T11:47:53.96367Z",
     "shell.execute_reply.started": "2023-01-04T11:47:53.935994Z"
    },
    "scrolled": false
   },
   "outputs": [
    {
     "data": {
      "text/html": [
       "<div>\n",
       "<style scoped>\n",
       "    .dataframe tbody tr th:only-of-type {\n",
       "        vertical-align: middle;\n",
       "    }\n",
       "\n",
       "    .dataframe tbody tr th {\n",
       "        vertical-align: top;\n",
       "    }\n",
       "\n",
       "    .dataframe thead th {\n",
       "        text-align: right;\n",
       "    }\n",
       "</style>\n",
       "<table border=\"1\" class=\"dataframe\">\n",
       "  <thead>\n",
       "    <tr style=\"text-align: right;\">\n",
       "      <th></th>\n",
       "      <th>age</th>\n",
       "      <th>sex</th>\n",
       "      <th>cp</th>\n",
       "      <th>trtbps</th>\n",
       "      <th>chol</th>\n",
       "      <th>fbs</th>\n",
       "      <th>restecg</th>\n",
       "      <th>thalachh</th>\n",
       "      <th>exng</th>\n",
       "      <th>oldpeak</th>\n",
       "      <th>slp</th>\n",
       "      <th>caa</th>\n",
       "      <th>thall</th>\n",
       "      <th>output</th>\n",
       "    </tr>\n",
       "  </thead>\n",
       "  <tbody>\n",
       "    <tr>\n",
       "      <th>0</th>\n",
       "      <td>63</td>\n",
       "      <td>1</td>\n",
       "      <td>3</td>\n",
       "      <td>145</td>\n",
       "      <td>233</td>\n",
       "      <td>1</td>\n",
       "      <td>0</td>\n",
       "      <td>150</td>\n",
       "      <td>0</td>\n",
       "      <td>2.3</td>\n",
       "      <td>0</td>\n",
       "      <td>0</td>\n",
       "      <td>1</td>\n",
       "      <td>1</td>\n",
       "    </tr>\n",
       "    <tr>\n",
       "      <th>1</th>\n",
       "      <td>37</td>\n",
       "      <td>1</td>\n",
       "      <td>2</td>\n",
       "      <td>130</td>\n",
       "      <td>250</td>\n",
       "      <td>0</td>\n",
       "      <td>1</td>\n",
       "      <td>187</td>\n",
       "      <td>0</td>\n",
       "      <td>3.5</td>\n",
       "      <td>0</td>\n",
       "      <td>0</td>\n",
       "      <td>2</td>\n",
       "      <td>1</td>\n",
       "    </tr>\n",
       "    <tr>\n",
       "      <th>2</th>\n",
       "      <td>41</td>\n",
       "      <td>0</td>\n",
       "      <td>1</td>\n",
       "      <td>130</td>\n",
       "      <td>204</td>\n",
       "      <td>0</td>\n",
       "      <td>0</td>\n",
       "      <td>172</td>\n",
       "      <td>0</td>\n",
       "      <td>1.4</td>\n",
       "      <td>2</td>\n",
       "      <td>0</td>\n",
       "      <td>2</td>\n",
       "      <td>1</td>\n",
       "    </tr>\n",
       "    <tr>\n",
       "      <th>3</th>\n",
       "      <td>56</td>\n",
       "      <td>1</td>\n",
       "      <td>1</td>\n",
       "      <td>120</td>\n",
       "      <td>236</td>\n",
       "      <td>0</td>\n",
       "      <td>1</td>\n",
       "      <td>178</td>\n",
       "      <td>0</td>\n",
       "      <td>0.8</td>\n",
       "      <td>2</td>\n",
       "      <td>0</td>\n",
       "      <td>2</td>\n",
       "      <td>1</td>\n",
       "    </tr>\n",
       "    <tr>\n",
       "      <th>4</th>\n",
       "      <td>57</td>\n",
       "      <td>0</td>\n",
       "      <td>0</td>\n",
       "      <td>120</td>\n",
       "      <td>354</td>\n",
       "      <td>0</td>\n",
       "      <td>1</td>\n",
       "      <td>163</td>\n",
       "      <td>1</td>\n",
       "      <td>0.6</td>\n",
       "      <td>2</td>\n",
       "      <td>0</td>\n",
       "      <td>2</td>\n",
       "      <td>1</td>\n",
       "    </tr>\n",
       "  </tbody>\n",
       "</table>\n",
       "</div>"
      ],
      "text/plain": [
       "   age  sex  cp  trtbps  chol  fbs  restecg  thalachh  exng  oldpeak  slp  \\\n",
       "0   63    1   3     145   233    1        0       150     0      2.3    0   \n",
       "1   37    1   2     130   250    0        1       187     0      3.5    0   \n",
       "2   41    0   1     130   204    0        0       172     0      1.4    2   \n",
       "3   56    1   1     120   236    0        1       178     0      0.8    2   \n",
       "4   57    0   0     120   354    0        1       163     1      0.6    2   \n",
       "\n",
       "   caa  thall  output  \n",
       "0    0      1       1  \n",
       "1    0      2       1  \n",
       "2    0      2       1  \n",
       "3    0      2       1  \n",
       "4    0      2       1  "
      ]
     },
     "execution_count": 314,
     "metadata": {},
     "output_type": "execute_result"
    }
   ],
   "source": [
    "'''\n",
    "심장마비 데이터셋 csv파일 불러오고 DataFrame으로 저장\n",
    "pandas library의 함수\n",
    "\n",
    "head()함수는 DataFrame 내의 처음 n줄의 데이터를 출력함.\n",
    "객체 안에 제대로 데이터 타입이 입력되어있는지 확인할 경우 사용.\n",
    "기본 디폴트는 5줄 출력.\n",
    "'''\n",
    "#df=pd.read_csv(\"/kaggle/input/heart-attack-analysis-prediction-dataset/heart.csv\") 기존 코드\n",
    "df=pd.read_csv(\"C:\\\\workplace\\\\ossp_csv\\\\heart.csv\") # 변경 코드\n",
    "df.head()\n"
   ]
  },
  {
   "cell_type": "code",
   "execution_count": 315,
   "metadata": {},
   "outputs": [
    {
     "data": {
      "text/html": [
       "<div>\n",
       "<style scoped>\n",
       "    .dataframe tbody tr th:only-of-type {\n",
       "        vertical-align: middle;\n",
       "    }\n",
       "\n",
       "    .dataframe tbody tr th {\n",
       "        vertical-align: top;\n",
       "    }\n",
       "\n",
       "    .dataframe thead th {\n",
       "        text-align: right;\n",
       "    }\n",
       "</style>\n",
       "<table border=\"1\" class=\"dataframe\">\n",
       "  <thead>\n",
       "    <tr style=\"text-align: right;\">\n",
       "      <th></th>\n",
       "      <th>98.6</th>\n",
       "    </tr>\n",
       "  </thead>\n",
       "  <tbody>\n",
       "    <tr>\n",
       "      <th>0</th>\n",
       "      <td>98.6</td>\n",
       "    </tr>\n",
       "    <tr>\n",
       "      <th>1</th>\n",
       "      <td>98.6</td>\n",
       "    </tr>\n",
       "    <tr>\n",
       "      <th>2</th>\n",
       "      <td>98.6</td>\n",
       "    </tr>\n",
       "    <tr>\n",
       "      <th>3</th>\n",
       "      <td>98.1</td>\n",
       "    </tr>\n",
       "    <tr>\n",
       "      <th>4</th>\n",
       "      <td>97.5</td>\n",
       "    </tr>\n",
       "  </tbody>\n",
       "</table>\n",
       "</div>"
      ],
      "text/plain": [
       "   98.6\n",
       "0  98.6\n",
       "1  98.6\n",
       "2  98.6\n",
       "3  98.1\n",
       "4  97.5"
      ]
     },
     "execution_count": 315,
     "metadata": {},
     "output_type": "execute_result"
    }
   ],
   "source": [
    "'''\n",
    "df.head()와 df1.head()를 같은 칸에 두었을 때 df1.head()의 결과만 출력되어서\n",
    "두 칸으로 쪼개었다.\n",
    "'''\n",
    "'''\n",
    "산소포화도 데이터셋 csv파일 불러오고 DataFrame으로 저장\n",
    "pandas library의 함수\n",
    "\n",
    "head()함수는 DataFrame 내의 처음 n줄의 데이터를 출력함.\n",
    "객체 안에 제대로 데이터 타입이 입력되어있는지 확인할 경우 사용.\n",
    "기본 디폴트는 5줄 출력.\n",
    "'''\n",
    "#df1=pd.read_csv(\"/kaggle/input/heart-attack-analysis-prediction-dataset/o2Saturation.csv\") 기존 코드\n",
    "df1=pd.read_csv(\"C:\\\\workplace\\\\ossp_csv\\\\o2Saturation.csv\") # 변경 코드\n",
    "df1.head()"
   ]
  },
  {
   "cell_type": "markdown",
   "metadata": {},
   "source": [
    "<a id=\"3\"></a>\n",
    "<h1 style=\"background-color:red;font-family:newtimeroman;font-size:250%;text-align:center;border-radius: 10px 10px;\"> Exploratary Some Information About Dataset</h1>"
   ]
  },
  {
   "cell_type": "code",
   "execution_count": 316,
   "metadata": {
    "execution": {
     "iopub.execute_input": "2023-01-04T11:47:53.968558Z",
     "iopub.status.busy": "2023-01-04T11:47:53.967685Z",
     "iopub.status.idle": "2023-01-04T11:47:53.976296Z",
     "shell.execute_reply": "2023-01-04T11:47:53.974566Z",
     "shell.execute_reply.started": "2023-01-04T11:47:53.968516Z"
    }
   },
   "outputs": [],
   "source": [
    "'''\n",
    "기존의 소스코드의 오타 발견 후 수정\n",
    "Saturasyon(튀르키예 언어로 추측) -> Saturation(영어)\n",
    "'''\n",
    "'''\n",
    "rename() 함수로 df1의 column 이름 바꾸기\n",
    "98.6 -> Saturation\n",
    "'''\n",
    "df1.rename(columns={\"98.6\": \"Saturation\"}, inplace=True)"
   ]
  },
  {
   "cell_type": "code",
   "execution_count": 317,
   "metadata": {
    "execution": {
     "iopub.execute_input": "2023-01-04T11:47:53.979824Z",
     "iopub.status.busy": "2023-01-04T11:47:53.978839Z",
     "iopub.status.idle": "2023-01-04T11:47:53.994272Z",
     "shell.execute_reply": "2023-01-04T11:47:53.992437Z",
     "shell.execute_reply.started": "2023-01-04T11:47:53.979763Z"
    }
   },
   "outputs": [],
   "source": [
    "'''\n",
    "concat() 함수로 df와 df1 합치기\n",
    "axis=1일 경우 왼쪽+오른쪽으로 합치기\n",
    "'''\n",
    "data = pd.concat([df,df1], axis=1)\n"
   ]
  },
  {
   "cell_type": "code",
   "execution_count": 318,
   "metadata": {
    "execution": {
     "iopub.execute_input": "2023-01-04T11:47:53.997414Z",
     "iopub.status.busy": "2023-01-04T11:47:53.996886Z",
     "iopub.status.idle": "2023-01-04T11:47:54.030876Z",
     "shell.execute_reply": "2023-01-04T11:47:54.029134Z",
     "shell.execute_reply.started": "2023-01-04T11:47:53.997375Z"
    }
   },
   "outputs": [
    {
     "data": {
      "text/html": [
       "<div>\n",
       "<style scoped>\n",
       "    .dataframe tbody tr th:only-of-type {\n",
       "        vertical-align: middle;\n",
       "    }\n",
       "\n",
       "    .dataframe tbody tr th {\n",
       "        vertical-align: top;\n",
       "    }\n",
       "\n",
       "    .dataframe thead th {\n",
       "        text-align: right;\n",
       "    }\n",
       "</style>\n",
       "<table border=\"1\" class=\"dataframe\">\n",
       "  <thead>\n",
       "    <tr style=\"text-align: right;\">\n",
       "      <th></th>\n",
       "      <th>age</th>\n",
       "      <th>sex</th>\n",
       "      <th>cp</th>\n",
       "      <th>trtbps</th>\n",
       "      <th>chol</th>\n",
       "      <th>fbs</th>\n",
       "      <th>restecg</th>\n",
       "      <th>thalachh</th>\n",
       "      <th>exng</th>\n",
       "      <th>oldpeak</th>\n",
       "      <th>slp</th>\n",
       "      <th>caa</th>\n",
       "      <th>thall</th>\n",
       "      <th>output</th>\n",
       "      <th>Saturation</th>\n",
       "    </tr>\n",
       "  </thead>\n",
       "  <tbody>\n",
       "    <tr>\n",
       "      <th>0</th>\n",
       "      <td>63.0</td>\n",
       "      <td>1.0</td>\n",
       "      <td>3.0</td>\n",
       "      <td>145.0</td>\n",
       "      <td>233.0</td>\n",
       "      <td>1.0</td>\n",
       "      <td>0.0</td>\n",
       "      <td>150.0</td>\n",
       "      <td>0.0</td>\n",
       "      <td>2.3</td>\n",
       "      <td>0.0</td>\n",
       "      <td>0.0</td>\n",
       "      <td>1.0</td>\n",
       "      <td>1.0</td>\n",
       "      <td>98.6</td>\n",
       "    </tr>\n",
       "    <tr>\n",
       "      <th>1</th>\n",
       "      <td>37.0</td>\n",
       "      <td>1.0</td>\n",
       "      <td>2.0</td>\n",
       "      <td>130.0</td>\n",
       "      <td>250.0</td>\n",
       "      <td>0.0</td>\n",
       "      <td>1.0</td>\n",
       "      <td>187.0</td>\n",
       "      <td>0.0</td>\n",
       "      <td>3.5</td>\n",
       "      <td>0.0</td>\n",
       "      <td>0.0</td>\n",
       "      <td>2.0</td>\n",
       "      <td>1.0</td>\n",
       "      <td>98.6</td>\n",
       "    </tr>\n",
       "    <tr>\n",
       "      <th>2</th>\n",
       "      <td>41.0</td>\n",
       "      <td>0.0</td>\n",
       "      <td>1.0</td>\n",
       "      <td>130.0</td>\n",
       "      <td>204.0</td>\n",
       "      <td>0.0</td>\n",
       "      <td>0.0</td>\n",
       "      <td>172.0</td>\n",
       "      <td>0.0</td>\n",
       "      <td>1.4</td>\n",
       "      <td>2.0</td>\n",
       "      <td>0.0</td>\n",
       "      <td>2.0</td>\n",
       "      <td>1.0</td>\n",
       "      <td>98.6</td>\n",
       "    </tr>\n",
       "    <tr>\n",
       "      <th>3</th>\n",
       "      <td>56.0</td>\n",
       "      <td>1.0</td>\n",
       "      <td>1.0</td>\n",
       "      <td>120.0</td>\n",
       "      <td>236.0</td>\n",
       "      <td>0.0</td>\n",
       "      <td>1.0</td>\n",
       "      <td>178.0</td>\n",
       "      <td>0.0</td>\n",
       "      <td>0.8</td>\n",
       "      <td>2.0</td>\n",
       "      <td>0.0</td>\n",
       "      <td>2.0</td>\n",
       "      <td>1.0</td>\n",
       "      <td>98.1</td>\n",
       "    </tr>\n",
       "    <tr>\n",
       "      <th>4</th>\n",
       "      <td>57.0</td>\n",
       "      <td>0.0</td>\n",
       "      <td>0.0</td>\n",
       "      <td>120.0</td>\n",
       "      <td>354.0</td>\n",
       "      <td>0.0</td>\n",
       "      <td>1.0</td>\n",
       "      <td>163.0</td>\n",
       "      <td>1.0</td>\n",
       "      <td>0.6</td>\n",
       "      <td>2.0</td>\n",
       "      <td>0.0</td>\n",
       "      <td>2.0</td>\n",
       "      <td>1.0</td>\n",
       "      <td>97.5</td>\n",
       "    </tr>\n",
       "  </tbody>\n",
       "</table>\n",
       "</div>"
      ],
      "text/plain": [
       "    age  sex   cp  trtbps   chol  fbs  restecg  thalachh  exng  oldpeak  slp  \\\n",
       "0  63.0  1.0  3.0   145.0  233.0  1.0      0.0     150.0   0.0      2.3  0.0   \n",
       "1  37.0  1.0  2.0   130.0  250.0  0.0      1.0     187.0   0.0      3.5  0.0   \n",
       "2  41.0  0.0  1.0   130.0  204.0  0.0      0.0     172.0   0.0      1.4  2.0   \n",
       "3  56.0  1.0  1.0   120.0  236.0  0.0      1.0     178.0   0.0      0.8  2.0   \n",
       "4  57.0  0.0  0.0   120.0  354.0  0.0      1.0     163.0   1.0      0.6  2.0   \n",
       "\n",
       "   caa  thall  output  Saturation  \n",
       "0  0.0    1.0     1.0        98.6  \n",
       "1  0.0    2.0     1.0        98.6  \n",
       "2  0.0    2.0     1.0        98.6  \n",
       "3  0.0    2.0     1.0        98.1  \n",
       "4  0.0    2.0     1.0        97.5  "
      ]
     },
     "execution_count": 318,
     "metadata": {},
     "output_type": "execute_result"
    }
   ],
   "source": [
    "'''\n",
    "head()함수는 DataFrame 내의 처음 n줄의 데이터를 출력함.\n",
    "객체 안에 제대로 데이터 타입이 입력되어있는지 확인할 경우 사용.\n",
    "기본 디폴트는 5줄 출력.\n",
    "'''\n",
    "data.head()"
   ]
  },
  {
   "cell_type": "code",
   "execution_count": 319,
   "metadata": {
    "execution": {
     "iopub.execute_input": "2023-01-04T11:47:54.035341Z",
     "iopub.status.busy": "2023-01-04T11:47:54.034317Z",
     "iopub.status.idle": "2023-01-04T11:47:54.048922Z",
     "shell.execute_reply": "2023-01-04T11:47:54.047372Z",
     "shell.execute_reply.started": "2023-01-04T11:47:54.035286Z"
    },
    "scrolled": true
   },
   "outputs": [
    {
     "data": {
      "text/plain": [
       "age           3282\n",
       "sex           3282\n",
       "cp            3282\n",
       "trtbps        3282\n",
       "chol          3282\n",
       "fbs           3282\n",
       "restecg       3282\n",
       "thalachh      3282\n",
       "exng          3282\n",
       "oldpeak       3282\n",
       "slp           3282\n",
       "caa           3282\n",
       "thall         3282\n",
       "output        3282\n",
       "Saturation       0\n",
       "dtype: int64"
      ]
     },
     "execution_count": 319,
     "metadata": {},
     "output_type": "execute_result"
    }
   ],
   "source": [
    "'''\n",
    "줄 개수가 다른 df와 df1을 왼쪽+오른쪽으로 붙여서\n",
    "결측값이 두 개의 차이인 3282만큼 생겨난 것\n",
    "'''\n",
    "data.isnull().sum()"
   ]
  },
  {
   "cell_type": "code",
   "execution_count": 320,
   "metadata": {
    "execution": {
     "iopub.execute_input": "2023-01-04T11:47:54.050931Z",
     "iopub.status.busy": "2023-01-04T11:47:54.050445Z",
     "iopub.status.idle": "2023-01-04T11:47:54.126242Z",
     "shell.execute_reply": "2023-01-04T11:47:54.124461Z",
     "shell.execute_reply.started": "2023-01-04T11:47:54.050853Z"
    }
   },
   "outputs": [
    {
     "data": {
      "text/html": [
       "<div>\n",
       "<style scoped>\n",
       "    .dataframe tbody tr th:only-of-type {\n",
       "        vertical-align: middle;\n",
       "    }\n",
       "\n",
       "    .dataframe tbody tr th {\n",
       "        vertical-align: top;\n",
       "    }\n",
       "\n",
       "    .dataframe thead th {\n",
       "        text-align: right;\n",
       "    }\n",
       "</style>\n",
       "<table border=\"1\" class=\"dataframe\">\n",
       "  <thead>\n",
       "    <tr style=\"text-align: right;\">\n",
       "      <th></th>\n",
       "      <th>age</th>\n",
       "      <th>sex</th>\n",
       "      <th>cp</th>\n",
       "      <th>trtbps</th>\n",
       "      <th>chol</th>\n",
       "      <th>fbs</th>\n",
       "      <th>restecg</th>\n",
       "      <th>thalachh</th>\n",
       "      <th>exng</th>\n",
       "      <th>oldpeak</th>\n",
       "      <th>slp</th>\n",
       "      <th>caa</th>\n",
       "      <th>thall</th>\n",
       "      <th>output</th>\n",
       "      <th>Saturation</th>\n",
       "    </tr>\n",
       "  </thead>\n",
       "  <tbody>\n",
       "    <tr>\n",
       "      <th>count</th>\n",
       "      <td>303.000000</td>\n",
       "      <td>303.000000</td>\n",
       "      <td>303.000000</td>\n",
       "      <td>303.000000</td>\n",
       "      <td>303.000000</td>\n",
       "      <td>303.000000</td>\n",
       "      <td>303.000000</td>\n",
       "      <td>303.000000</td>\n",
       "      <td>303.000000</td>\n",
       "      <td>303.000000</td>\n",
       "      <td>303.000000</td>\n",
       "      <td>303.000000</td>\n",
       "      <td>303.000000</td>\n",
       "      <td>303.000000</td>\n",
       "      <td>3585.000000</td>\n",
       "    </tr>\n",
       "    <tr>\n",
       "      <th>mean</th>\n",
       "      <td>54.366337</td>\n",
       "      <td>0.683168</td>\n",
       "      <td>0.966997</td>\n",
       "      <td>131.623762</td>\n",
       "      <td>246.264026</td>\n",
       "      <td>0.148515</td>\n",
       "      <td>0.528053</td>\n",
       "      <td>149.646865</td>\n",
       "      <td>0.326733</td>\n",
       "      <td>1.039604</td>\n",
       "      <td>1.399340</td>\n",
       "      <td>0.729373</td>\n",
       "      <td>2.313531</td>\n",
       "      <td>0.544554</td>\n",
       "      <td>98.239275</td>\n",
       "    </tr>\n",
       "    <tr>\n",
       "      <th>std</th>\n",
       "      <td>9.082101</td>\n",
       "      <td>0.466011</td>\n",
       "      <td>1.032052</td>\n",
       "      <td>17.538143</td>\n",
       "      <td>51.830751</td>\n",
       "      <td>0.356198</td>\n",
       "      <td>0.525860</td>\n",
       "      <td>22.905161</td>\n",
       "      <td>0.469794</td>\n",
       "      <td>1.161075</td>\n",
       "      <td>0.616226</td>\n",
       "      <td>1.022606</td>\n",
       "      <td>0.612277</td>\n",
       "      <td>0.498835</td>\n",
       "      <td>0.726336</td>\n",
       "    </tr>\n",
       "    <tr>\n",
       "      <th>min</th>\n",
       "      <td>29.000000</td>\n",
       "      <td>0.000000</td>\n",
       "      <td>0.000000</td>\n",
       "      <td>94.000000</td>\n",
       "      <td>126.000000</td>\n",
       "      <td>0.000000</td>\n",
       "      <td>0.000000</td>\n",
       "      <td>71.000000</td>\n",
       "      <td>0.000000</td>\n",
       "      <td>0.000000</td>\n",
       "      <td>0.000000</td>\n",
       "      <td>0.000000</td>\n",
       "      <td>0.000000</td>\n",
       "      <td>0.000000</td>\n",
       "      <td>96.500000</td>\n",
       "    </tr>\n",
       "    <tr>\n",
       "      <th>25%</th>\n",
       "      <td>47.500000</td>\n",
       "      <td>0.000000</td>\n",
       "      <td>0.000000</td>\n",
       "      <td>120.000000</td>\n",
       "      <td>211.000000</td>\n",
       "      <td>0.000000</td>\n",
       "      <td>0.000000</td>\n",
       "      <td>133.500000</td>\n",
       "      <td>0.000000</td>\n",
       "      <td>0.000000</td>\n",
       "      <td>1.000000</td>\n",
       "      <td>0.000000</td>\n",
       "      <td>2.000000</td>\n",
       "      <td>0.000000</td>\n",
       "      <td>97.600000</td>\n",
       "    </tr>\n",
       "    <tr>\n",
       "      <th>50%</th>\n",
       "      <td>55.000000</td>\n",
       "      <td>1.000000</td>\n",
       "      <td>1.000000</td>\n",
       "      <td>130.000000</td>\n",
       "      <td>240.000000</td>\n",
       "      <td>0.000000</td>\n",
       "      <td>1.000000</td>\n",
       "      <td>153.000000</td>\n",
       "      <td>0.000000</td>\n",
       "      <td>0.800000</td>\n",
       "      <td>1.000000</td>\n",
       "      <td>0.000000</td>\n",
       "      <td>2.000000</td>\n",
       "      <td>1.000000</td>\n",
       "      <td>98.600000</td>\n",
       "    </tr>\n",
       "    <tr>\n",
       "      <th>75%</th>\n",
       "      <td>61.000000</td>\n",
       "      <td>1.000000</td>\n",
       "      <td>2.000000</td>\n",
       "      <td>140.000000</td>\n",
       "      <td>274.500000</td>\n",
       "      <td>0.000000</td>\n",
       "      <td>1.000000</td>\n",
       "      <td>166.000000</td>\n",
       "      <td>1.000000</td>\n",
       "      <td>1.600000</td>\n",
       "      <td>2.000000</td>\n",
       "      <td>1.000000</td>\n",
       "      <td>3.000000</td>\n",
       "      <td>1.000000</td>\n",
       "      <td>98.600000</td>\n",
       "    </tr>\n",
       "    <tr>\n",
       "      <th>max</th>\n",
       "      <td>77.000000</td>\n",
       "      <td>1.000000</td>\n",
       "      <td>3.000000</td>\n",
       "      <td>200.000000</td>\n",
       "      <td>564.000000</td>\n",
       "      <td>1.000000</td>\n",
       "      <td>2.000000</td>\n",
       "      <td>202.000000</td>\n",
       "      <td>1.000000</td>\n",
       "      <td>6.200000</td>\n",
       "      <td>2.000000</td>\n",
       "      <td>4.000000</td>\n",
       "      <td>3.000000</td>\n",
       "      <td>1.000000</td>\n",
       "      <td>99.600000</td>\n",
       "    </tr>\n",
       "  </tbody>\n",
       "</table>\n",
       "</div>"
      ],
      "text/plain": [
       "              age         sex          cp      trtbps        chol         fbs  \\\n",
       "count  303.000000  303.000000  303.000000  303.000000  303.000000  303.000000   \n",
       "mean    54.366337    0.683168    0.966997  131.623762  246.264026    0.148515   \n",
       "std      9.082101    0.466011    1.032052   17.538143   51.830751    0.356198   \n",
       "min     29.000000    0.000000    0.000000   94.000000  126.000000    0.000000   \n",
       "25%     47.500000    0.000000    0.000000  120.000000  211.000000    0.000000   \n",
       "50%     55.000000    1.000000    1.000000  130.000000  240.000000    0.000000   \n",
       "75%     61.000000    1.000000    2.000000  140.000000  274.500000    0.000000   \n",
       "max     77.000000    1.000000    3.000000  200.000000  564.000000    1.000000   \n",
       "\n",
       "          restecg    thalachh        exng     oldpeak         slp         caa  \\\n",
       "count  303.000000  303.000000  303.000000  303.000000  303.000000  303.000000   \n",
       "mean     0.528053  149.646865    0.326733    1.039604    1.399340    0.729373   \n",
       "std      0.525860   22.905161    0.469794    1.161075    0.616226    1.022606   \n",
       "min      0.000000   71.000000    0.000000    0.000000    0.000000    0.000000   \n",
       "25%      0.000000  133.500000    0.000000    0.000000    1.000000    0.000000   \n",
       "50%      1.000000  153.000000    0.000000    0.800000    1.000000    0.000000   \n",
       "75%      1.000000  166.000000    1.000000    1.600000    2.000000    1.000000   \n",
       "max      2.000000  202.000000    1.000000    6.200000    2.000000    4.000000   \n",
       "\n",
       "            thall      output   Saturation  \n",
       "count  303.000000  303.000000  3585.000000  \n",
       "mean     2.313531    0.544554    98.239275  \n",
       "std      0.612277    0.498835     0.726336  \n",
       "min      0.000000    0.000000    96.500000  \n",
       "25%      2.000000    0.000000    97.600000  \n",
       "50%      2.000000    1.000000    98.600000  \n",
       "75%      3.000000    1.000000    98.600000  \n",
       "max      3.000000    1.000000    99.600000  "
      ]
     },
     "execution_count": 320,
     "metadata": {},
     "output_type": "execute_result"
    }
   ],
   "source": [
    "'''\n",
    "describe() 메서드를 통해서 다양한 통계량을 요약해주는 편리한 메서드\n",
    "DataFrame일 경우 열에 대해서 요약이 수행\n",
    "누락된 데이터는 제외\n",
    "'''\n",
    "data.describe()"
   ]
  },
  {
   "cell_type": "code",
   "execution_count": 321,
   "metadata": {
    "execution": {
     "iopub.execute_input": "2023-01-04T11:47:54.130956Z",
     "iopub.status.busy": "2023-01-04T11:47:54.130334Z",
     "iopub.status.idle": "2023-01-04T11:47:54.148577Z",
     "shell.execute_reply": "2023-01-04T11:47:54.146984Z",
     "shell.execute_reply.started": "2023-01-04T11:47:54.130907Z"
    }
   },
   "outputs": [
    {
     "name": "stdout",
     "output_type": "stream",
     "text": [
      "<class 'pandas.core.frame.DataFrame'>\n",
      "RangeIndex: 3585 entries, 0 to 3584\n",
      "Data columns (total 15 columns):\n",
      " #   Column      Non-Null Count  Dtype  \n",
      "---  ------      --------------  -----  \n",
      " 0   age         303 non-null    float64\n",
      " 1   sex         303 non-null    float64\n",
      " 2   cp          303 non-null    float64\n",
      " 3   trtbps      303 non-null    float64\n",
      " 4   chol        303 non-null    float64\n",
      " 5   fbs         303 non-null    float64\n",
      " 6   restecg     303 non-null    float64\n",
      " 7   thalachh    303 non-null    float64\n",
      " 8   exng        303 non-null    float64\n",
      " 9   oldpeak     303 non-null    float64\n",
      " 10  slp         303 non-null    float64\n",
      " 11  caa         303 non-null    float64\n",
      " 12  thall       303 non-null    float64\n",
      " 13  output      303 non-null    float64\n",
      " 14  Saturation  3585 non-null   float64\n",
      "dtypes: float64(15)\n",
      "memory usage: 420.2 KB\n"
     ]
    }
   ],
   "source": [
    "'''\n",
    "info() 함수는 DataFrame을 구성하는 행과 열의 크기, 컬럼명, 컬럼을 \n",
    "구성하는 값의 자료형 등을 출력해줌\n",
    "'''\n",
    "data.info()"
   ]
  },
  {
   "cell_type": "code",
   "execution_count": 322,
   "metadata": {
    "execution": {
     "iopub.execute_input": "2023-01-04T11:47:54.150918Z",
     "iopub.status.busy": "2023-01-04T11:47:54.150347Z",
     "iopub.status.idle": "2023-01-04T11:47:54.161363Z",
     "shell.execute_reply": "2023-01-04T11:47:54.160122Z",
     "shell.execute_reply.started": "2023-01-04T11:47:54.150859Z"
    }
   },
   "outputs": [
    {
     "data": {
      "text/plain": [
       "(3585, 15)"
      ]
     },
     "execution_count": 322,
     "metadata": {},
     "output_type": "execute_result"
    }
   ],
   "source": [
    "'''\n",
    "몇 행, 몇 열인지 확인할 수 있음.\n",
    "'''\n",
    "data.shape"
   ]
  },
  {
   "cell_type": "code",
   "execution_count": 323,
   "metadata": {
    "execution": {
     "iopub.execute_input": "2023-01-04T11:47:54.163421Z",
     "iopub.status.busy": "2023-01-04T11:47:54.162951Z",
     "iopub.status.idle": "2023-01-04T11:47:54.177057Z",
     "shell.execute_reply": "2023-01-04T11:47:54.175865Z",
     "shell.execute_reply.started": "2023-01-04T11:47:54.163365Z"
    }
   },
   "outputs": [
    {
     "data": {
      "text/plain": [
       "Index(['age', 'sex', 'cp', 'trtbps', 'chol', 'fbs', 'restecg', 'thalachh',\n",
       "       'exng', 'oldpeak', 'slp', 'caa', 'thall', 'output', 'Saturation'],\n",
       "      dtype='object')"
      ]
     },
     "execution_count": 323,
     "metadata": {},
     "output_type": "execute_result"
    }
   ],
   "source": [
    "'''\n",
    "column명 확인\n",
    "'''\n",
    "data.columns"
   ]
  },
  {
   "cell_type": "markdown",
   "metadata": {},
   "source": [
    "<a id=\"4\"></a>\n",
    "<h1 style=\"background-color:red;font-family:newtimeroman;font-size:250%;text-align:center;border-radius: 10px 10px;\"> EDA</h1>"
   ]
  },
  {
   "cell_type": "code",
   "execution_count": 324,
   "metadata": {
    "execution": {
     "iopub.execute_input": "2023-01-04T11:47:54.179318Z",
     "iopub.status.busy": "2023-01-04T11:47:54.178389Z",
     "iopub.status.idle": "2023-01-04T11:47:54.534543Z",
     "shell.execute_reply": "2023-01-04T11:47:54.533497Z",
     "shell.execute_reply.started": "2023-01-04T11:47:54.179263Z"
    }
   },
   "outputs": [
    {
     "data": {
      "image/png": "[encoded data removed]",
      "text/plain": [
       "<Figure size 500x500 with 1 Axes>"
      ]
     },
     "metadata": {},
     "output_type": "display_data"
    }
   ],
   "source": [
    "'''\n",
    "Matplotlib.seaborn 라이브러리를 이용하여 히스토그램을 그려줌\n",
    "'''\n",
    "\n",
    "sns.displot(data=data, x=\"age\", color=\"magenta\")\n",
    "plt.xlabel(\"AGE\")\n",
    "plt.show()"
   ]
  },
  {
   "cell_type": "code",
   "execution_count": 339,
   "metadata": {
    "execution": {
     "iopub.execute_input": "2023-01-04T11:47:54.536626Z",
     "iopub.status.busy": "2023-01-04T11:47:54.53587Z",
     "iopub.status.idle": "2023-01-04T11:47:54.741117Z",
     "shell.execute_reply": "2023-01-04T11:47:54.739623Z",
     "shell.execute_reply.started": "2023-01-04T11:47:54.536587Z"
    }
   },
   "outputs": [
    {
     "name": "stderr",
     "output_type": "stream",
     "text": [
      "C:\\Users\\user\\anaconda3\\envs\\test\\lib\\site-packages\\IPython\\core\\pylabtools.py:151: UserWarning: Glyph 44032 (\\N{HANGUL SYLLABLE GA}) missing from current font.\n",
      "  fig.canvas.print_figure(bytes_io, **kw)\n",
      "C:\\Users\\user\\anaconda3\\envs\\test\\lib\\site-packages\\IPython\\core\\pylabtools.py:151: UserWarning: Glyph 49844 (\\N{HANGUL SYLLABLE SEUM}) missing from current font.\n",
      "  fig.canvas.print_figure(bytes_io, **kw)\n",
      "C:\\Users\\user\\anaconda3\\envs\\test\\lib\\site-packages\\IPython\\core\\pylabtools.py:151: UserWarning: Glyph 53685 (\\N{HANGUL SYLLABLE TONG}) missing from current font.\n",
      "  fig.canvas.print_figure(bytes_io, **kw)\n",
      "C:\\Users\\user\\anaconda3\\envs\\test\\lib\\site-packages\\IPython\\core\\pylabtools.py:151: UserWarning: Glyph 51613 (\\N{HANGUL SYLLABLE JEUNG}) missing from current font.\n",
      "  fig.canvas.print_figure(bytes_io, **kw)\n",
      "C:\\Users\\user\\anaconda3\\envs\\test\\lib\\site-packages\\IPython\\core\\pylabtools.py:151: UserWarning: Glyph 50976 (\\N{HANGUL SYLLABLE YU}) missing from current font.\n",
      "  fig.canvas.print_figure(bytes_io, **kw)\n",
      "C:\\Users\\user\\anaconda3\\envs\\test\\lib\\site-packages\\IPython\\core\\pylabtools.py:151: UserWarning: Glyph 54805 (\\N{HANGUL SYLLABLE HYEONG}) missing from current font.\n",
      "  fig.canvas.print_figure(bytes_io, **kw)\n"
     ]
    },
    {
     "data": {
      "image/png": "[encoded data removed]",
      "text/plain": [
       "<Figure size 2000x2000 with 1 Axes>"
      ]
     },
     "metadata": {},
     "output_type": "display_data"
    }
   ],
   "source": [
    "'''\n",
    "Matplotlib.seaborn 라이브러리를 이용하여 히스토그램을 그려줌\n",
    "'''\n",
    "sns.countplot(data=data, x=\"cp\", color=\"yellow\")\n",
    "plt.xlabel(\"CP\")\n",
    "plt.show()"
   ]
  },
  {
   "cell_type": "markdown",
   "metadata": {},
   "source": [
    "# cp : Chest Pain type chest pain type\n",
    "\n",
    "## Value 1: typical angina\n",
    "## Value 2: atypical angina\n",
    "## Value 3: non-anginal pain\n",
    "## Value 4: asymptomatic"
   ]
  },
  {
   "cell_type": "code",
   "execution_count": 338,
   "metadata": {
    "execution": {
     "iopub.execute_input": "2023-01-04T11:47:54.744018Z",
     "iopub.status.busy": "2023-01-04T11:47:54.743407Z",
     "iopub.status.idle": "2023-01-04T11:47:54.944702Z",
     "shell.execute_reply": "2023-01-04T11:47:54.942989Z",
     "shell.execute_reply.started": "2023-01-04T11:47:54.743944Z"
    }
   },
   "outputs": [
    {
     "name": "stderr",
     "output_type": "stream",
     "text": [
      "C:\\Users\\user\\anaconda3\\envs\\test\\lib\\site-packages\\IPython\\core\\pylabtools.py:151: UserWarning: Glyph 49457 (\\N{HANGUL SYLLABLE SEONG}) missing from current font.\n",
      "  fig.canvas.print_figure(bytes_io, **kw)\n",
      "C:\\Users\\user\\anaconda3\\envs\\test\\lib\\site-packages\\IPython\\core\\pylabtools.py:151: UserWarning: Glyph 48324 (\\N{HANGUL SYLLABLE BYEOL}) missing from current font.\n",
      "  fig.canvas.print_figure(bytes_io, **kw)\n"
     ]
    },
    {
     "data": {
      "image/png": "[encoded data removed]",
      "text/plain": [
       "<Figure size 2000x2000 with 1 Axes>"
      ]
     },
     "metadata": {},
     "output_type": "display_data"
    }
   ],
   "source": [
    "'''\n",
    "Matplotlib.seaborn 라이브러리를 이용하여 히스토그램을 그려줌\n",
    "'''\n",
    "f = sns.countplot(data=data, x=\"sex\", color=\"cyan\")\n",
    "f.set_xticklabels(['MAN', 'WOMAN'])\n",
    "plt.xlabel(\"SEX\")\n",
    "plt.show()"
   ]
  },
  {
   "cell_type": "code",
   "execution_count": 327,
   "metadata": {
    "execution": {
     "iopub.execute_input": "2023-01-04T11:47:54.951153Z",
     "iopub.status.busy": "2023-01-04T11:47:54.950736Z",
     "iopub.status.idle": "2023-01-04T11:47:55.133106Z",
     "shell.execute_reply": "2023-01-04T11:47:55.131556Z",
     "shell.execute_reply.started": "2023-01-04T11:47:54.951118Z"
    }
   },
   "outputs": [
    {
     "data": {
      "image/png": "[encoded data removed]",
      "text/plain": [
       "<Figure size 2000x2000 with 1 Axes>"
      ]
     },
     "metadata": {},
     "output_type": "display_data"
    }
   ],
   "source": [
    "'''\n",
    "Matplotlib.seaborn 라이브러리를 이용하여 히스토그램을 그려줌\n",
    "'''\n",
    "sns.countplot(data=data, x=\"fbs\", color=\"green\")\n",
    "plt.xlabel(\"fasting blood sugar\")\n",
    "plt.show()"
   ]
  },
  {
   "cell_type": "markdown",
   "metadata": {},
   "source": [
    "# fbs : (fasting blood sugar > 120 mg/dl) (1 = true; 0 = false)"
   ]
  },
  {
   "cell_type": "code",
   "execution_count": 328,
   "metadata": {
    "execution": {
     "iopub.execute_input": "2023-01-04T11:47:55.134531Z",
     "iopub.status.busy": "2023-01-04T11:47:55.134193Z",
     "iopub.status.idle": "2023-01-04T11:47:55.330293Z",
     "shell.execute_reply": "2023-01-04T11:47:55.328832Z",
     "shell.execute_reply.started": "2023-01-04T11:47:55.134499Z"
    }
   },
   "outputs": [
    {
     "data": {
      "image/png": "[encoded data removed]",
      "text/plain": [
       "<Figure size 2000x2000 with 1 Axes>"
      ]
     },
     "metadata": {},
     "output_type": "display_data"
    }
   ],
   "source": [
    "'''\n",
    "Matplotlib.seaborn 라이브러리를 이용하여 히스토그램을 그려줌\n",
    "'''\n",
    "sns.countplot(data=data, x=\"restecg\", color=\"black\")\n",
    "plt.xlabel(\"Resting Electrocardiographic Results \")\n",
    "plt.show()"
   ]
  },
  {
   "cell_type": "markdown",
   "metadata": {},
   "source": [
    "# rest_ecg : resting electrocardiographic results\n",
    "\n",
    "## Value 0: normal\n",
    "## Value 1: having ST-T wave abnormality (T wave inversions and/or ST elevation or depression of > 0.05 mV)\n",
    "## Value 2: showing probable or definite left ventricular hypertrophy by Estes' criteria"
   ]
  },
  {
   "cell_type": "code",
   "execution_count": 329,
   "metadata": {
    "execution": {
     "iopub.execute_input": "2023-01-04T11:47:55.332487Z",
     "iopub.status.busy": "2023-01-04T11:47:55.331934Z",
     "iopub.status.idle": "2023-01-04T11:47:55.686183Z",
     "shell.execute_reply": "2023-01-04T11:47:55.684666Z",
     "shell.execute_reply.started": "2023-01-04T11:47:55.332449Z"
    }
   },
   "outputs": [
    {
     "data": {
      "image/png": "[encoded data removed]",
      "text/plain": [
       "<Figure size 500x500 with 1 Axes>"
      ]
     },
     "metadata": {},
     "output_type": "display_data"
    }
   ],
   "source": [
    "'''\n",
    "Matplotlib.seaborn 라이브러리를 이용하여 히스토그램을 그려줌\n",
    "'''\n",
    "sns.displot(data=data, x=\"oldpeak\", color=\"red\")\n",
    "plt.xlabel(\"Old Peak  \")\n",
    "plt.show()"
   ]
  },
  {
   "cell_type": "code",
   "execution_count": 330,
   "metadata": {
    "execution": {
     "iopub.execute_input": "2023-01-04T11:47:55.688797Z",
     "iopub.status.busy": "2023-01-04T11:47:55.6883Z",
     "iopub.status.idle": "2023-01-04T11:47:55.895022Z",
     "shell.execute_reply": "2023-01-04T11:47:55.89363Z",
     "shell.execute_reply.started": "2023-01-04T11:47:55.688748Z"
    }
   },
   "outputs": [
    {
     "data": {
      "image/png": "[encoded data removed]",
      "text/plain": [
       "<Figure size 2000x2000 with 1 Axes>"
      ]
     },
     "metadata": {},
     "output_type": "display_data"
    }
   ],
   "source": [
    "'''\n",
    "Matplotlib.seaborn 라이브러리를 이용하여 히스토그램을 그려줌\n",
    "'''\n",
    "sns.countplot(data=data, x=\"thall\", color=\"gray\")\n",
    "plt.xlabel(\"maximum heart rate achieved\")\n",
    "plt.show()"
   ]
  },
  {
   "cell_type": "code",
   "execution_count": 331,
   "metadata": {
    "execution": {
     "iopub.execute_input": "2023-01-04T11:47:55.897063Z",
     "iopub.status.busy": "2023-01-04T11:47:55.89667Z",
     "iopub.status.idle": "2023-01-04T11:47:56.195424Z",
     "shell.execute_reply": "2023-01-04T11:47:56.194181Z",
     "shell.execute_reply.started": "2023-01-04T11:47:55.897026Z"
    }
   },
   "outputs": [
    {
     "data": {
      "image/png": "[encoded data removed]",
      "text/plain": [
       "<Figure size 2000x2000 with 1 Axes>"
      ]
     },
     "metadata": {},
     "output_type": "display_data"
    }
   ],
   "source": [
    "'''\n",
    "Matplotlib.seaborn 라이브러리를 이용하여 히스토그램을 그려줌\n",
    "'''\n",
    "'''\n",
    "plt.xticks(rotation=45)를 한 이유는 x축 항목들이 이름이 길어서 겹쳐서 출력이\n",
    "될 수 있기 때문에 글자가 기울어지게 출력하게 한 것\n",
    "'''\n",
    "sns.countplot(data=data, x=\"Saturation\", color=\"blue\")\n",
    "plt.xticks(rotation=45)\n",
    "plt.xlabel(\"O2 Saturation\")\n",
    "plt.show()"
   ]
  },
  {
   "cell_type": "code",
   "execution_count": 332,
   "metadata": {
    "execution": {
     "iopub.execute_input": "2023-01-04T11:47:56.197694Z",
     "iopub.status.busy": "2023-01-04T11:47:56.197275Z",
     "iopub.status.idle": "2023-01-04T11:47:56.22992Z",
     "shell.execute_reply": "2023-01-04T11:47:56.228512Z",
     "shell.execute_reply.started": "2023-01-04T11:47:56.197659Z"
    }
   },
   "outputs": [
    {
     "data": {
      "text/html": [
       "<div>\n",
       "<style scoped>\n",
       "    .dataframe tbody tr th:only-of-type {\n",
       "        vertical-align: middle;\n",
       "    }\n",
       "\n",
       "    .dataframe tbody tr th {\n",
       "        vertical-align: top;\n",
       "    }\n",
       "\n",
       "    .dataframe thead th {\n",
       "        text-align: right;\n",
       "    }\n",
       "</style>\n",
       "<table border=\"1\" class=\"dataframe\">\n",
       "  <thead>\n",
       "    <tr style=\"text-align: right;\">\n",
       "      <th></th>\n",
       "      <th>age</th>\n",
       "      <th>sex</th>\n",
       "      <th>cp</th>\n",
       "      <th>trtbps</th>\n",
       "      <th>chol</th>\n",
       "      <th>fbs</th>\n",
       "      <th>restecg</th>\n",
       "      <th>thalachh</th>\n",
       "      <th>exng</th>\n",
       "      <th>oldpeak</th>\n",
       "      <th>slp</th>\n",
       "      <th>caa</th>\n",
       "      <th>thall</th>\n",
       "      <th>output</th>\n",
       "      <th>Saturation</th>\n",
       "    </tr>\n",
       "  </thead>\n",
       "  <tbody>\n",
       "    <tr>\n",
       "      <th>0</th>\n",
       "      <td>63.0</td>\n",
       "      <td>1.0</td>\n",
       "      <td>3.0</td>\n",
       "      <td>145.0</td>\n",
       "      <td>233.0</td>\n",
       "      <td>1.0</td>\n",
       "      <td>0.0</td>\n",
       "      <td>150.0</td>\n",
       "      <td>0.0</td>\n",
       "      <td>2.3</td>\n",
       "      <td>0.0</td>\n",
       "      <td>0.0</td>\n",
       "      <td>1.0</td>\n",
       "      <td>1.0</td>\n",
       "      <td>98.6</td>\n",
       "    </tr>\n",
       "    <tr>\n",
       "      <th>1</th>\n",
       "      <td>37.0</td>\n",
       "      <td>1.0</td>\n",
       "      <td>2.0</td>\n",
       "      <td>130.0</td>\n",
       "      <td>250.0</td>\n",
       "      <td>0.0</td>\n",
       "      <td>1.0</td>\n",
       "      <td>187.0</td>\n",
       "      <td>0.0</td>\n",
       "      <td>3.5</td>\n",
       "      <td>0.0</td>\n",
       "      <td>0.0</td>\n",
       "      <td>2.0</td>\n",
       "      <td>1.0</td>\n",
       "      <td>98.6</td>\n",
       "    </tr>\n",
       "    <tr>\n",
       "      <th>2</th>\n",
       "      <td>41.0</td>\n",
       "      <td>0.0</td>\n",
       "      <td>1.0</td>\n",
       "      <td>130.0</td>\n",
       "      <td>204.0</td>\n",
       "      <td>0.0</td>\n",
       "      <td>0.0</td>\n",
       "      <td>172.0</td>\n",
       "      <td>0.0</td>\n",
       "      <td>1.4</td>\n",
       "      <td>2.0</td>\n",
       "      <td>0.0</td>\n",
       "      <td>2.0</td>\n",
       "      <td>1.0</td>\n",
       "      <td>98.6</td>\n",
       "    </tr>\n",
       "    <tr>\n",
       "      <th>3</th>\n",
       "      <td>56.0</td>\n",
       "      <td>1.0</td>\n",
       "      <td>1.0</td>\n",
       "      <td>120.0</td>\n",
       "      <td>236.0</td>\n",
       "      <td>0.0</td>\n",
       "      <td>1.0</td>\n",
       "      <td>178.0</td>\n",
       "      <td>0.0</td>\n",
       "      <td>0.8</td>\n",
       "      <td>2.0</td>\n",
       "      <td>0.0</td>\n",
       "      <td>2.0</td>\n",
       "      <td>1.0</td>\n",
       "      <td>98.1</td>\n",
       "    </tr>\n",
       "    <tr>\n",
       "      <th>4</th>\n",
       "      <td>57.0</td>\n",
       "      <td>0.0</td>\n",
       "      <td>0.0</td>\n",
       "      <td>120.0</td>\n",
       "      <td>354.0</td>\n",
       "      <td>0.0</td>\n",
       "      <td>1.0</td>\n",
       "      <td>163.0</td>\n",
       "      <td>1.0</td>\n",
       "      <td>0.6</td>\n",
       "      <td>2.0</td>\n",
       "      <td>0.0</td>\n",
       "      <td>2.0</td>\n",
       "      <td>1.0</td>\n",
       "      <td>97.5</td>\n",
       "    </tr>\n",
       "  </tbody>\n",
       "</table>\n",
       "</div>"
      ],
      "text/plain": [
       "    age  sex   cp  trtbps   chol  fbs  restecg  thalachh  exng  oldpeak  slp  \\\n",
       "0  63.0  1.0  3.0   145.0  233.0  1.0      0.0     150.0   0.0      2.3  0.0   \n",
       "1  37.0  1.0  2.0   130.0  250.0  0.0      1.0     187.0   0.0      3.5  0.0   \n",
       "2  41.0  0.0  1.0   130.0  204.0  0.0      0.0     172.0   0.0      1.4  2.0   \n",
       "3  56.0  1.0  1.0   120.0  236.0  0.0      1.0     178.0   0.0      0.8  2.0   \n",
       "4  57.0  0.0  0.0   120.0  354.0  0.0      1.0     163.0   1.0      0.6  2.0   \n",
       "\n",
       "   caa  thall  output  Saturation  \n",
       "0  0.0    1.0     1.0        98.6  \n",
       "1  0.0    2.0     1.0        98.6  \n",
       "2  0.0    2.0     1.0        98.6  \n",
       "3  0.0    2.0     1.0        98.1  \n",
       "4  0.0    2.0     1.0        97.5  "
      ]
     },
     "execution_count": 332,
     "metadata": {},
     "output_type": "execute_result"
    }
   ],
   "source": [
    "'''\n",
    "head()함수는 DataFrame 내의 처음 n줄의 데이터를 출력함.\n",
    "객체 안에 제대로 데이터 타입이 입력되어있는지 확인할 경우 사용.\n",
    "기본 디폴트는 5줄 출력.\n",
    "'''\n",
    "data.head()"
   ]
  },
  {
   "cell_type": "code",
   "execution_count": 333,
   "metadata": {
    "execution": {
     "iopub.execute_input": "2023-01-04T11:47:56.232046Z",
     "iopub.status.busy": "2023-01-04T11:47:56.231555Z",
     "iopub.status.idle": "2023-01-04T11:47:56.743756Z",
     "shell.execute_reply": "2023-01-04T11:47:56.742417Z",
     "shell.execute_reply.started": "2023-01-04T11:47:56.232004Z"
    }
   },
   "outputs": [
    {
     "data": {
      "image/png": "[encoded data removed]",
      "text/plain": [
       "<Figure size 2000x2000 with 1 Axes>"
      ]
     },
     "metadata": {},
     "output_type": "display_data"
    }
   ],
   "source": [
    "'''\n",
    "x축의 요소가 똑바로 출력되게 바꾸고 더 알기 쉽게 수정 하였음\n",
    "'''\n",
    "sns.countplot(data=data, x=\"output\", color=\"orange\")\n",
    "plt.xlabel(\"Heart Attack\")\n",
    "plt.show()"
   ]
  },
  {
   "cell_type": "code",
   "execution_count": 346,
   "metadata": {
    "scrolled": false
   },
   "outputs": [
    {
     "data": {
      "image/png": "[encoded data removed]",
      "text/plain": [
       "<Figure size 2000x2000 with 1 Axes>"
      ]
     },
     "metadata": {},
     "output_type": "display_data"
    }
   ],
   "source": [
    "'''\n",
    "성별에 따른 심장질환 유무 시각화\n",
    "'''\n",
    "'''\n",
    "기존 소스코드는 데이터셋에 있는 데이터 분포만 시각화를 해서 각 유형이 심장마비에\n",
    "얼마나 영향을 주는 지 수치를 알 수가 없었다.\n",
    "그래서 각 유형이 얼마나 영향을 주는지 시각화를 추가하였다.\n",
    "'''\n",
    "f = sns.countplot(x='output', hue=\"sex\", data=data)\n",
    "f.set_xticklabels(['X', 'O'])\n",
    "plt.ylabel(\"HEART ATTACK\")\n",
    "plt.xlabel(\"HEART ATTACK <-- SEX\")\n",
    "plt.show()"
   ]
  },
  {
   "cell_type": "code",
   "execution_count": 345,
   "metadata": {},
   "outputs": [
    {
     "data": {
      "image/png": "[encoded data removed]",
      "text/plain": [
       "<Figure size 2000x2000 with 1 Axes>"
      ]
     },
     "metadata": {},
     "output_type": "display_data"
    }
   ],
   "source": [
    "f = sns.countplot(x='output', hue=\"age\", data=data)\n",
    "plt.ylabel(\"HEART ATTACK\")\n",
    "plt.xlabel(\"HEART ATTACK <-- AGE\")\n",
    "plt.show()"
   ]
  },
  {
   "cell_type": "code",
   "execution_count": null,
   "metadata": {},
   "outputs": [],
   "source": [
    "'''\n",
    "나이에 따른 심장질환 유무 시각화\n",
    "'''\n",
    "f = sns.countplot(x='output', hue=\"age\", data=data)\n",
    "plt.ylabel(\"HEART ATTACK\")\n",
    "plt.xlabel(\"HEART ATTACK <-- AGE\")\n",
    "plt.show()"
   ]
  },
  {
   "cell_type": "markdown",
   "metadata": {},
   "source": [
    "<a id=\"5\"></a>\n",
    "<h1 style=\"background-color:red;font-family:newtimeroman;font-size:250%;text-align:center;border-radius: 10px 10px;\">Prediction </h1>"
   ]
  },
  {
   "cell_type": "code",
   "execution_count": 171,
   "metadata": {
    "execution": {
     "iopub.execute_input": "2023-01-04T11:47:56.745839Z",
     "iopub.status.busy": "2023-01-04T11:47:56.745445Z",
     "iopub.status.idle": "2023-01-04T11:47:56.754239Z",
     "shell.execute_reply": "2023-01-04T11:47:56.752796Z",
     "shell.execute_reply.started": "2023-01-04T11:47:56.745804Z"
    }
   },
   "outputs": [],
   "source": [
    "from sklearn.model_selection import train_test_split, StratifiedKFold, GridSearchCV\n",
    "\n",
    "from sklearn.linear_model import LogisticRegression\n",
    "\n",
    "from sklearn.svm import SVC\n",
    "\n",
    "from sklearn.ensemble import RandomForestClassifier, VotingClassifier\n",
    "\n",
    "from sklearn.tree import DecisionTreeClassifier\n",
    "\n",
    "from sklearn.neighbors import KNeighborsClassifier\n",
    "\n",
    "from sklearn.metrics import accuracy_score\n",
    "\n"
   ]
  },
  {
   "cell_type": "code",
   "execution_count": 172,
   "metadata": {
    "execution": {
     "iopub.execute_input": "2023-01-04T11:47:56.756797Z",
     "iopub.status.busy": "2023-01-04T11:47:56.756346Z",
     "iopub.status.idle": "2023-01-04T11:47:56.76835Z",
     "shell.execute_reply": "2023-01-04T11:47:56.766314Z",
     "shell.execute_reply.started": "2023-01-04T11:47:56.756746Z"
    }
   },
   "outputs": [
    {
     "data": {
      "text/plain": [
       "303"
      ]
     },
     "execution_count": 172,
     "metadata": {},
     "output_type": "execute_result"
    }
   ],
   "source": [
    "'''\n",
    "데이터의 길이 구하기\n",
    "'''\n",
    "'''\n",
    "쓸데없이 나누어져 있던 칸 붙였음\n",
    "'''\n",
    "data_len=len(data)\n",
    "data_len"
   ]
  },
  {
   "cell_type": "code",
   "execution_count": 173,
   "metadata": {
    "execution": {
     "iopub.execute_input": "2023-01-04T11:47:56.785314Z",
     "iopub.status.busy": "2023-01-04T11:47:56.784739Z",
     "iopub.status.idle": "2023-01-04T11:47:56.826746Z",
     "shell.execute_reply": "2023-01-04T11:47:56.825214Z",
     "shell.execute_reply.started": "2023-01-04T11:47:56.785273Z"
    }
   },
   "outputs": [
    {
     "data": {
      "text/html": [
       "<div>\n",
       "<style scoped>\n",
       "    .dataframe tbody tr th:only-of-type {\n",
       "        vertical-align: middle;\n",
       "    }\n",
       "\n",
       "    .dataframe tbody tr th {\n",
       "        vertical-align: top;\n",
       "    }\n",
       "\n",
       "    .dataframe thead th {\n",
       "        text-align: right;\n",
       "    }\n",
       "</style>\n",
       "<table border=\"1\" class=\"dataframe\">\n",
       "  <thead>\n",
       "    <tr style=\"text-align: right;\">\n",
       "      <th></th>\n",
       "      <th>age</th>\n",
       "      <th>sex</th>\n",
       "      <th>cp</th>\n",
       "      <th>trtbps</th>\n",
       "      <th>chol</th>\n",
       "      <th>fbs</th>\n",
       "      <th>restecg</th>\n",
       "      <th>thalachh</th>\n",
       "      <th>exng</th>\n",
       "      <th>oldpeak</th>\n",
       "      <th>slp</th>\n",
       "      <th>caa</th>\n",
       "      <th>thall</th>\n",
       "      <th>output</th>\n",
       "      <th>Saturation</th>\n",
       "    </tr>\n",
       "  </thead>\n",
       "  <tbody>\n",
       "    <tr>\n",
       "      <th>0</th>\n",
       "      <td>63.0</td>\n",
       "      <td>1.0</td>\n",
       "      <td>3.0</td>\n",
       "      <td>145.0</td>\n",
       "      <td>233.0</td>\n",
       "      <td>1.0</td>\n",
       "      <td>0.0</td>\n",
       "      <td>150.0</td>\n",
       "      <td>0.0</td>\n",
       "      <td>2.3</td>\n",
       "      <td>0.0</td>\n",
       "      <td>0.0</td>\n",
       "      <td>1.0</td>\n",
       "      <td>1.0</td>\n",
       "      <td>98.6</td>\n",
       "    </tr>\n",
       "    <tr>\n",
       "      <th>1</th>\n",
       "      <td>37.0</td>\n",
       "      <td>1.0</td>\n",
       "      <td>2.0</td>\n",
       "      <td>130.0</td>\n",
       "      <td>250.0</td>\n",
       "      <td>0.0</td>\n",
       "      <td>1.0</td>\n",
       "      <td>187.0</td>\n",
       "      <td>0.0</td>\n",
       "      <td>3.5</td>\n",
       "      <td>0.0</td>\n",
       "      <td>0.0</td>\n",
       "      <td>2.0</td>\n",
       "      <td>1.0</td>\n",
       "      <td>98.6</td>\n",
       "    </tr>\n",
       "    <tr>\n",
       "      <th>2</th>\n",
       "      <td>41.0</td>\n",
       "      <td>0.0</td>\n",
       "      <td>1.0</td>\n",
       "      <td>130.0</td>\n",
       "      <td>204.0</td>\n",
       "      <td>0.0</td>\n",
       "      <td>0.0</td>\n",
       "      <td>172.0</td>\n",
       "      <td>0.0</td>\n",
       "      <td>1.4</td>\n",
       "      <td>2.0</td>\n",
       "      <td>0.0</td>\n",
       "      <td>2.0</td>\n",
       "      <td>1.0</td>\n",
       "      <td>98.6</td>\n",
       "    </tr>\n",
       "    <tr>\n",
       "      <th>3</th>\n",
       "      <td>56.0</td>\n",
       "      <td>1.0</td>\n",
       "      <td>1.0</td>\n",
       "      <td>120.0</td>\n",
       "      <td>236.0</td>\n",
       "      <td>0.0</td>\n",
       "      <td>1.0</td>\n",
       "      <td>178.0</td>\n",
       "      <td>0.0</td>\n",
       "      <td>0.8</td>\n",
       "      <td>2.0</td>\n",
       "      <td>0.0</td>\n",
       "      <td>2.0</td>\n",
       "      <td>1.0</td>\n",
       "      <td>98.1</td>\n",
       "    </tr>\n",
       "    <tr>\n",
       "      <th>4</th>\n",
       "      <td>57.0</td>\n",
       "      <td>0.0</td>\n",
       "      <td>0.0</td>\n",
       "      <td>120.0</td>\n",
       "      <td>354.0</td>\n",
       "      <td>0.0</td>\n",
       "      <td>1.0</td>\n",
       "      <td>163.0</td>\n",
       "      <td>1.0</td>\n",
       "      <td>0.6</td>\n",
       "      <td>2.0</td>\n",
       "      <td>0.0</td>\n",
       "      <td>2.0</td>\n",
       "      <td>1.0</td>\n",
       "      <td>97.5</td>\n",
       "    </tr>\n",
       "    <tr>\n",
       "      <th>...</th>\n",
       "      <td>...</td>\n",
       "      <td>...</td>\n",
       "      <td>...</td>\n",
       "      <td>...</td>\n",
       "      <td>...</td>\n",
       "      <td>...</td>\n",
       "      <td>...</td>\n",
       "      <td>...</td>\n",
       "      <td>...</td>\n",
       "      <td>...</td>\n",
       "      <td>...</td>\n",
       "      <td>...</td>\n",
       "      <td>...</td>\n",
       "      <td>...</td>\n",
       "      <td>...</td>\n",
       "    </tr>\n",
       "    <tr>\n",
       "      <th>298</th>\n",
       "      <td>57.0</td>\n",
       "      <td>0.0</td>\n",
       "      <td>0.0</td>\n",
       "      <td>140.0</td>\n",
       "      <td>241.0</td>\n",
       "      <td>0.0</td>\n",
       "      <td>1.0</td>\n",
       "      <td>123.0</td>\n",
       "      <td>1.0</td>\n",
       "      <td>0.2</td>\n",
       "      <td>1.0</td>\n",
       "      <td>0.0</td>\n",
       "      <td>3.0</td>\n",
       "      <td>0.0</td>\n",
       "      <td>97.5</td>\n",
       "    </tr>\n",
       "    <tr>\n",
       "      <th>299</th>\n",
       "      <td>45.0</td>\n",
       "      <td>1.0</td>\n",
       "      <td>3.0</td>\n",
       "      <td>110.0</td>\n",
       "      <td>264.0</td>\n",
       "      <td>0.0</td>\n",
       "      <td>1.0</td>\n",
       "      <td>132.0</td>\n",
       "      <td>0.0</td>\n",
       "      <td>1.2</td>\n",
       "      <td>1.0</td>\n",
       "      <td>0.0</td>\n",
       "      <td>3.0</td>\n",
       "      <td>0.0</td>\n",
       "      <td>97.5</td>\n",
       "    </tr>\n",
       "    <tr>\n",
       "      <th>300</th>\n",
       "      <td>68.0</td>\n",
       "      <td>1.0</td>\n",
       "      <td>0.0</td>\n",
       "      <td>144.0</td>\n",
       "      <td>193.0</td>\n",
       "      <td>1.0</td>\n",
       "      <td>1.0</td>\n",
       "      <td>141.0</td>\n",
       "      <td>0.0</td>\n",
       "      <td>3.4</td>\n",
       "      <td>1.0</td>\n",
       "      <td>2.0</td>\n",
       "      <td>3.0</td>\n",
       "      <td>0.0</td>\n",
       "      <td>97.5</td>\n",
       "    </tr>\n",
       "    <tr>\n",
       "      <th>301</th>\n",
       "      <td>57.0</td>\n",
       "      <td>1.0</td>\n",
       "      <td>0.0</td>\n",
       "      <td>130.0</td>\n",
       "      <td>131.0</td>\n",
       "      <td>0.0</td>\n",
       "      <td>1.0</td>\n",
       "      <td>115.0</td>\n",
       "      <td>1.0</td>\n",
       "      <td>1.2</td>\n",
       "      <td>1.0</td>\n",
       "      <td>1.0</td>\n",
       "      <td>3.0</td>\n",
       "      <td>0.0</td>\n",
       "      <td>97.5</td>\n",
       "    </tr>\n",
       "    <tr>\n",
       "      <th>302</th>\n",
       "      <td>57.0</td>\n",
       "      <td>0.0</td>\n",
       "      <td>1.0</td>\n",
       "      <td>130.0</td>\n",
       "      <td>236.0</td>\n",
       "      <td>0.0</td>\n",
       "      <td>0.0</td>\n",
       "      <td>174.0</td>\n",
       "      <td>0.0</td>\n",
       "      <td>0.0</td>\n",
       "      <td>1.0</td>\n",
       "      <td>1.0</td>\n",
       "      <td>2.0</td>\n",
       "      <td>0.0</td>\n",
       "      <td>97.5</td>\n",
       "    </tr>\n",
       "  </tbody>\n",
       "</table>\n",
       "<p>303 rows × 15 columns</p>\n",
       "</div>"
      ],
      "text/plain": [
       "      age  sex   cp  trtbps   chol  fbs  restecg  thalachh  exng  oldpeak  \\\n",
       "0    63.0  1.0  3.0   145.0  233.0  1.0      0.0     150.0   0.0      2.3   \n",
       "1    37.0  1.0  2.0   130.0  250.0  0.0      1.0     187.0   0.0      3.5   \n",
       "2    41.0  0.0  1.0   130.0  204.0  0.0      0.0     172.0   0.0      1.4   \n",
       "3    56.0  1.0  1.0   120.0  236.0  0.0      1.0     178.0   0.0      0.8   \n",
       "4    57.0  0.0  0.0   120.0  354.0  0.0      1.0     163.0   1.0      0.6   \n",
       "..    ...  ...  ...     ...    ...  ...      ...       ...   ...      ...   \n",
       "298  57.0  0.0  0.0   140.0  241.0  0.0      1.0     123.0   1.0      0.2   \n",
       "299  45.0  1.0  3.0   110.0  264.0  0.0      1.0     132.0   0.0      1.2   \n",
       "300  68.0  1.0  0.0   144.0  193.0  1.0      1.0     141.0   0.0      3.4   \n",
       "301  57.0  1.0  0.0   130.0  131.0  0.0      1.0     115.0   1.0      1.2   \n",
       "302  57.0  0.0  1.0   130.0  236.0  0.0      0.0     174.0   0.0      0.0   \n",
       "\n",
       "     slp  caa  thall  output  Saturation  \n",
       "0    0.0  0.0    1.0     1.0        98.6  \n",
       "1    0.0  0.0    2.0     1.0        98.6  \n",
       "2    2.0  0.0    2.0     1.0        98.6  \n",
       "3    2.0  0.0    2.0     1.0        98.1  \n",
       "4    2.0  0.0    2.0     1.0        97.5  \n",
       "..   ...  ...    ...     ...         ...  \n",
       "298  1.0  0.0    3.0     0.0        97.5  \n",
       "299  1.0  0.0    3.0     0.0        97.5  \n",
       "300  1.0  2.0    3.0     0.0        97.5  \n",
       "301  1.0  1.0    3.0     0.0        97.5  \n",
       "302  1.0  1.0    2.0     0.0        97.5  \n",
       "\n",
       "[303 rows x 15 columns]"
      ]
     },
     "execution_count": 173,
     "metadata": {},
     "output_type": "execute_result"
    }
   ],
   "source": [
    "'''\n",
    "data -> test\n",
    "'''\n",
    "test=data[:data_len]\n",
    "test"
   ]
  },
  {
   "cell_type": "code",
   "execution_count": 174,
   "metadata": {
    "execution": {
     "iopub.execute_input": "2023-01-04T11:47:56.829539Z",
     "iopub.status.busy": "2023-01-04T11:47:56.828786Z",
     "iopub.status.idle": "2023-01-04T11:47:56.839178Z",
     "shell.execute_reply": "2023-01-04T11:47:56.837794Z",
     "shell.execute_reply.started": "2023-01-04T11:47:56.82947Z"
    }
   },
   "outputs": [],
   "source": [
    "'''\n",
    "결측치와 inf 제거\n",
    "'''\n",
    "data = data[np.isfinite(data).all(1)]"
   ]
  },
  {
   "cell_type": "code",
   "execution_count": 175,
   "metadata": {
    "execution": {
     "iopub.execute_input": "2023-01-04T11:47:56.840739Z",
     "iopub.status.busy": "2023-01-04T11:47:56.840331Z",
     "iopub.status.idle": "2023-01-04T11:47:56.854759Z",
     "shell.execute_reply": "2023-01-04T11:47:56.852492Z",
     "shell.execute_reply.started": "2023-01-04T11:47:56.840696Z"
    }
   },
   "outputs": [
    {
     "data": {
      "text/plain": [
       "0      1.0\n",
       "1      1.0\n",
       "2      1.0\n",
       "3      1.0\n",
       "4      1.0\n",
       "      ... \n",
       "298    0.0\n",
       "299    0.0\n",
       "300    0.0\n",
       "301    0.0\n",
       "302    0.0\n",
       "Name: output, Length: 303, dtype: float64"
      ]
     },
     "execution_count": 175,
     "metadata": {},
     "output_type": "execute_result"
    }
   ],
   "source": [
    "'''\n",
    "학습을 위해\n",
    "심장마비 유무를 판단하는 output 삭제 후 x_train으로 지정 후\n",
    "output은 y_train으로 지정\n",
    "'''\n",
    "'''\n",
    "y_train = data[\"output\"] 문장이 한 줄 더 있어서 제거 하였음.\n",
    "'''\n",
    "X_train = data.drop(labels = \"output\", axis = 1)\n",
    "y_train = data[\"output\"]\n",
    "y_train"
   ]
  },
  {
   "cell_type": "code",
   "execution_count": 176,
   "metadata": {
    "execution": {
     "iopub.execute_input": "2023-01-04T11:47:56.879074Z",
     "iopub.status.busy": "2023-01-04T11:47:56.878458Z",
     "iopub.status.idle": "2023-01-04T11:47:56.888226Z",
     "shell.execute_reply": "2023-01-04T11:47:56.887221Z",
     "shell.execute_reply.started": "2023-01-04T11:47:56.879022Z"
    }
   },
   "outputs": [],
   "source": [
    "'''\n",
    "현재 test 값이 없으므로 전체에서 66 / 33 의 비율로 트레인 셋, 테스트 셋을 분배한다\n",
    "'''\n",
    "X_train, X_test, y_train, y_test = train_test_split(X_train, y_train, test_size = 0.33, random_state = 42)"
   ]
  },
  {
   "cell_type": "code",
   "execution_count": 177,
   "metadata": {
    "execution": {
     "iopub.execute_input": "2023-01-04T11:47:56.89081Z",
     "iopub.status.busy": "2023-01-04T11:47:56.890399Z",
     "iopub.status.idle": "2023-01-04T11:47:56.903009Z",
     "shell.execute_reply": "2023-01-04T11:47:56.901546Z",
     "shell.execute_reply.started": "2023-01-04T11:47:56.890774Z"
    }
   },
   "outputs": [
    {
     "name": "stdout",
     "output_type": "stream",
     "text": [
      "X_train 203\n",
      "X_test 100\n",
      "y_train 203\n",
      "y_test 100\n",
      "test 303\n"
     ]
    }
   ],
   "source": [
    "'''\n",
    "각각의 개수 출력\n",
    "'''\n",
    "print(\"X_train\",len(X_train))\n",
    "print(\"X_test\",len(X_test))\n",
    "print(\"y_train\",len(y_train))\n",
    "print(\"y_test\",len(y_test))\n",
    "print(\"test\",len(test))"
   ]
  },
  {
   "cell_type": "code",
   "execution_count": 178,
   "metadata": {
    "execution": {
     "iopub.execute_input": "2023-01-04T11:47:56.905496Z",
     "iopub.status.busy": "2023-01-04T11:47:56.905034Z",
     "iopub.status.idle": "2023-01-04T11:47:56.914867Z",
     "shell.execute_reply": "2023-01-04T11:47:56.913804Z",
     "shell.execute_reply.started": "2023-01-04T11:47:56.90546Z"
    }
   },
   "outputs": [],
   "source": [
    "'''\n",
    "기존 소스의 max_iter의 기본값이 100인데 오류가 발생해서 5000으로 변경해주었다\n",
    "'''\n",
    "logreg = LogisticRegression(max_iter=1000)"
   ]
  },
  {
   "cell_type": "code",
   "execution_count": 179,
   "metadata": {
    "execution": {
     "iopub.execute_input": "2023-01-04T11:47:56.916993Z",
     "iopub.status.busy": "2023-01-04T11:47:56.91658Z",
     "iopub.status.idle": "2023-01-04T11:47:56.966289Z",
     "shell.execute_reply": "2023-01-04T11:47:56.965048Z",
     "shell.execute_reply.started": "2023-01-04T11:47:56.916957Z"
    }
   },
   "outputs": [
    {
     "data": {
      "text/plain": [
       "LogisticRegression(max_iter=1000)"
      ]
     },
     "execution_count": 179,
     "metadata": {},
     "output_type": "execute_result"
    }
   ],
   "source": [
    "'''\n",
    "모델에 트레인셋 적용\n",
    "'''\n",
    "logreg.fit(X_train, y_train)"
   ]
  },
  {
   "cell_type": "code",
   "execution_count": 180,
   "metadata": {
    "execution": {
     "iopub.execute_input": "2023-01-04T11:47:56.975005Z",
     "iopub.status.busy": "2023-01-04T11:47:56.973444Z",
     "iopub.status.idle": "2023-01-04T11:47:56.9907Z",
     "shell.execute_reply": "2023-01-04T11:47:56.989333Z",
     "shell.execute_reply.started": "2023-01-04T11:47:56.97494Z"
    }
   },
   "outputs": [
    {
     "name": "stdout",
     "output_type": "stream",
     "text": [
      "Training Accuracy: % 89.16\n",
      "Testing Accuracy: % 80.0\n"
     ]
    }
   ],
   "source": [
    "'''\n",
    "train셋을 이용한 정확도와 test셋을 이용한 정확도를 구하고 출력 \n",
    "round() 함수는 소수점 몇자리까지 해주는 것\n",
    "format는 {} 중괄호 자리에 값이 넣어지도록 하는 것\n",
    "'''\n",
    "acc_log_train = round(logreg.score(X_train, y_train)*100,2) \n",
    "acc_log_test = round(logreg.score(X_test,y_test)*100,2)\n",
    "print(\"Training Accuracy: % {}\".format(acc_log_train))\n",
    "print(\"Testing Accuracy: % {}\".format(acc_log_test))"
   ]
  },
  {
   "cell_type": "code",
   "execution_count": null,
   "metadata": {},
   "outputs": [],
   "source": []
  }
 ],
 "metadata": {
  "kernelspec": {
   "display_name": "Python 3 (ipykernel)",
   "language": "python",
   "name": "python3"
  },
  "language_info": {
   "codemirror_mode": {
    "name": "ipython",
    "version": 3
   },
   "file_extension": ".py",
   "mimetype": "text/x-python",
   "name": "python",
   "nbconvert_exporter": "python",
   "pygments_lexer": "ipython3",
   "version": "3.7.13"
  }
 },
 "nbformat": 4,
 "nbformat_minor": 4
}
